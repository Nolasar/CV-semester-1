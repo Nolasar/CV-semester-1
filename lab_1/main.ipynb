{
 "cells": [
  {
   "cell_type": "code",
   "execution_count": 1,
   "metadata": {},
   "outputs": [],
   "source": [
    "# Imports\n",
    "import time\n",
    "import cv2\n",
    "import numpy as np\n",
    "from PIL import Image"
   ]
  },
  {
   "cell_type": "code",
   "execution_count": 2,
   "metadata": {},
   "outputs": [],
   "source": [
    "def chromakey_manual(background: np.array, foreground: np.array, key_color: tuple, threshold: int = 50):\n",
    "    \"\"\"\n",
    "    Manual implementation of chromakey.\n",
    "        :param background: Background image as numpy array.\n",
    "        :param foreground: Foreground image as numpy array.\n",
    "        :param key_color: The RGB color to replace (tuple).\n",
    "        :param threshold: Color similarity threshold.\n",
    "        :return: Composited image.\n",
    "    \"\"\"\n",
    "    if foreground.shape[:2] != background.shape[:2]:\n",
    "        raise ValueError(\"The foreground and background must have the same dimensions.\")\n",
    "    \n",
    "    result = np.copy(background)\n",
    "    rows, cols, _ = foreground.shape\n",
    "\n",
    "    for y in range(rows):\n",
    "        for x in range(cols):\n",
    "            fg_pixel = foreground[y, x]\n",
    "            distance = np.linalg.norm(fg_pixel - key_color)\n",
    "            if distance > threshold:\n",
    "                result[y, x] = fg_pixel\n",
    "\n",
    "    return result"
   ]
  },
  {
   "cell_type": "code",
   "execution_count": 3,
   "metadata": {},
   "outputs": [],
   "source": [
    "def chromakey_opencv(background: np.ndarray, foreground: np.ndarray, key_color: tuple, threshold: int = 50):\n",
    "    \"\"\"\n",
    "    Chromakey implementation using OpenCV.\n",
    "        :param background: Background image as numpy array.\n",
    "        :param foreground: Foreground image as numpy array.\n",
    "        :param key_color: The RGB color to replace (tuple).\n",
    "        :param threshold: Color similarity threshold.\n",
    "        :return: Composited image.\n",
    "    \"\"\"\n",
    "    if foreground.shape[:2] != background.shape[:2]:\n",
    "        raise ValueError(\"The foreground and background must have the same dimensions.\")\n",
    "    \n",
    "    lower_bound = np.array([channel - threshold for channel in key_color])\n",
    "    upper_bound = np.array([channel + threshold for channel in key_color])\n",
    "\n",
    "    mask = cv2.inRange(foreground, lower_bound, upper_bound)\n",
    "    mask_inv = cv2.bitwise_not(mask)\n",
    "\n",
    "    fg_masked = cv2.bitwise_and(foreground, foreground, mask=mask_inv)\n",
    "    bg_masked = cv2.bitwise_and(background, background, mask=mask)\n",
    "\n",
    "    result = cv2.add(bg_masked, fg_masked)\n",
    "    return result"
   ]
  },
  {
   "cell_type": "code",
   "execution_count": 4,
   "metadata": {},
   "outputs": [
    {
     "name": "stdout",
     "output_type": "stream",
     "text": [
      "Manual time: 0.621435 seconds\n",
      "OpenCV time: 0.002212 seconds\n"
     ]
    }
   ],
   "source": [
    "foreground_path = 'images/foreground.jpg'\n",
    "background_path = 'images/background.jpg'\n",
    "\n",
    "foreground = np.array(Image.open(foreground_path).convert(\"RGB\"))\n",
    "background = np.array(Image.open(background_path).convert(\"RGB\"))\n",
    "key_color = (255, 255, 255)  # White\n",
    "threshold = 50\n",
    "\n",
    "start_time = time.time()\n",
    "result_manual = chromakey_manual(background, foreground, key_color, threshold)\n",
    "manual_time = time.time() - start_time\n",
    "\n",
    "start_time = time.time()\n",
    "result_cv2 = chromakey_opencv(background, foreground, key_color, threshold)\n",
    "cv2_time = time.time() - start_time\n",
    "\n",
    "manual_image = Image.fromarray(result_manual)\n",
    "cv2_image =  Image.fromarray(result_cv2)\n",
    "\n",
    "manual_image.save(\"results/manual.png\")\n",
    "cv2_image.save(\"results/openCV.png\")\n",
    "\n",
    "print(f'Manual time: {manual_time:.6f} seconds\\nOpenCV time: {cv2_time:.6f} seconds')"
   ]
  }
 ],
 "metadata": {
  "kernelspec": {
   "display_name": ".venv",
   "language": "python",
   "name": "python3"
  },
  "language_info": {
   "codemirror_mode": {
    "name": "ipython",
    "version": 3
   },
   "file_extension": ".py",
   "mimetype": "text/x-python",
   "name": "python",
   "nbconvert_exporter": "python",
   "pygments_lexer": "ipython3",
   "version": "3.11.9"
  }
 },
 "nbformat": 4,
 "nbformat_minor": 2
}
